{
 "cells": [
  {
   "cell_type": "code",
   "execution_count": 1,
   "metadata": {},
   "outputs": [
    {
     "name": "stderr",
     "output_type": "stream",
     "text": [
      "2023-02-10 10:30:44.492258: I tensorflow/core/platform/cpu_feature_guard.cc:193] This TensorFlow binary is optimized with oneAPI Deep Neural Network Library (oneDNN) to use the following CPU instructions in performance-critical operations:  AVX2 FMA\n",
      "To enable them in other operations, rebuild TensorFlow with the appropriate compiler flags.\n"
     ]
    },
    {
     "name": "stdout",
     "output_type": "stream",
     "text": [
      "TF version: 2.11.0\n",
      "TFX version: 1.12.0\n",
      "MLMD version: 1.12.0\n"
     ]
    }
   ],
   "source": [
    "import tensorflow_model_analysis as tfma\n",
    "import ml_metadata as mlmd\n",
    "from tfx import v1 as tfx\n",
    "from tfx.orchestration.experimental.interactive.interactive_context import InteractiveContext\n",
    "import pipeline_settings as settings\n",
    "import pandas as pd\n",
    "import tensorflow as tf\n",
    "\n",
    "print('TF version: {}'.format(tf.__version__))\n",
    "print('TFX version: {}'.format(tfx.__version__))\n",
    "print('MLMD version: {}'.format(mlmd.__version__))\n"
   ]
  },
  {
   "cell_type": "code",
   "execution_count": 2,
   "metadata": {},
   "outputs": [],
   "source": [
    "interactive_context = InteractiveContext(\n",
    "    pipeline_name=settings.PIPELINE_NAME,\n",
    "    pipeline_root=settings.PIPELINE_ROOT,\n",
    "    metadata_connection_config=tfx.orchestration.metadata.sqlite_metadata_connection_config(\n",
    "        settings.METADATA_PATH)\n",
    ")\n",
    "\n",
    "connection_config = interactive_context.metadata_connection_config\n",
    "store = mlmd.MetadataStore(connection_config)\n",
    "\n",
    "# All TFX artifacts are stored in the base directory\n",
    "base_dir = connection_config.sqlite.filename_uri.split('metadata.sqlite')[0]"
   ]
  },
  {
   "cell_type": "code",
   "execution_count": 3,
   "metadata": {},
   "outputs": [],
   "source": [
    "def display_types(types):\n",
    "  # Helper function to render dataframes for the artifact and execution types\n",
    "  table = {'id': [], 'name': []}\n",
    "  for a_type in types:\n",
    "    table['id'].append(a_type.id)\n",
    "    table['name'].append(a_type.name)\n",
    "  return pd.DataFrame(data=table)\n",
    "\n",
    "\n",
    "def display_artifacts(store, artifacts):\n",
    "  # Helper function to render dataframes for the input artifacts\n",
    "  table = {'artifact id': [], 'type': [], 'uri': []}\n",
    "  for a in artifacts:\n",
    "    table['artifact id'].append(a.id)\n",
    "    artifact_type = store.get_artifact_types_by_id([a.type_id])[0]\n",
    "    table['type'].append(artifact_type.name)\n",
    "    table['uri'].append(a.uri.replace(base_dir, './'))\n",
    "  return pd.DataFrame(data=table)\n",
    "\n",
    "\n",
    "def display_properties(store, node):\n",
    "  # Helper function to render dataframes for artifact and execution properties\n",
    "  table = {'property': [], 'value': []}\n",
    "  for k, v in node.properties.items():\n",
    "    table['property'].append(k)\n",
    "    table['value'].append(\n",
    "        v.string_value if v.HasField('string_value') else v.int_value)\n",
    "  for k, v in node.custom_properties.items():\n",
    "    table['property'].append(k)\n",
    "    table['value'].append(\n",
    "        v.string_value if v.HasField('string_value') else v.int_value)\n",
    "  return pd.DataFrame(data=table)\n",
    "\n",
    "\n",
    "def get_one_hop_parent_artifacts(store, artifacts):\n",
    "  # Get a list of artifacts within a 1-hop of the artifacts of interest\n",
    "  artifact_ids = [artifact.id for artifact in artifacts]\n",
    "  executions_ids = set(\n",
    "      event.execution_id\n",
    "      for event in store.get_events_by_artifact_ids(artifact_ids)\n",
    "      if event.type == mlmd.proto.Event.OUTPUT)\n",
    "  artifacts_ids = set(\n",
    "      event.artifact_id\n",
    "      for event in store.get_events_by_execution_ids(executions_ids)\n",
    "      if event.type == mlmd.proto.Event.INPUT)\n",
    "  return [artifact for artifact in store.get_artifacts_by_id(artifacts_ids)]\n",
    "\n",
    "\n",
    "def find_producer_execution(store, artifact):\n",
    "  executions_ids = set(\n",
    "      event.execution_id for event in store.get_events_by_artifact_ids([artifact.id]) if event.type == mlmd.proto.Event.OUTPUT\n",
    "    )\n",
    "  return store.get_executions_by_id(executions_ids)[0]\n"
   ]
  },
  {
   "cell_type": "code",
   "execution_count": 4,
   "metadata": {},
   "outputs": [
    {
     "data": {
      "text/html": [
       "<div>\n",
       "<style scoped>\n",
       "    .dataframe tbody tr th:only-of-type {\n",
       "        vertical-align: middle;\n",
       "    }\n",
       "\n",
       "    .dataframe tbody tr th {\n",
       "        vertical-align: top;\n",
       "    }\n",
       "\n",
       "    .dataframe thead th {\n",
       "        text-align: right;\n",
       "    }\n",
       "</style>\n",
       "<table border=\"1\" class=\"dataframe\">\n",
       "  <thead>\n",
       "    <tr style=\"text-align: right;\">\n",
       "      <th></th>\n",
       "      <th>id</th>\n",
       "      <th>name</th>\n",
       "    </tr>\n",
       "  </thead>\n",
       "  <tbody>\n",
       "    <tr>\n",
       "      <th>0</th>\n",
       "      <td>15</td>\n",
       "      <td>Examples</td>\n",
       "    </tr>\n",
       "    <tr>\n",
       "      <th>1</th>\n",
       "      <td>17</td>\n",
       "      <td>ExampleStatistics</td>\n",
       "    </tr>\n",
       "    <tr>\n",
       "      <th>2</th>\n",
       "      <td>19</td>\n",
       "      <td>Schema</td>\n",
       "    </tr>\n",
       "  </tbody>\n",
       "</table>\n",
       "</div>"
      ],
      "text/plain": [
       "   id               name\n",
       "0  15           Examples\n",
       "1  17  ExampleStatistics\n",
       "2  19             Schema"
      ]
     },
     "execution_count": 4,
     "metadata": {},
     "output_type": "execute_result"
    }
   ],
   "source": [
    "display_types(store.get_artifact_types())"
   ]
  },
  {
   "cell_type": "code",
   "execution_count": 5,
   "metadata": {},
   "outputs": [
    {
     "data": {
      "text/html": [
       "<div>\n",
       "<style scoped>\n",
       "    .dataframe tbody tr th:only-of-type {\n",
       "        vertical-align: middle;\n",
       "    }\n",
       "\n",
       "    .dataframe tbody tr th {\n",
       "        vertical-align: top;\n",
       "    }\n",
       "\n",
       "    .dataframe thead th {\n",
       "        text-align: right;\n",
       "    }\n",
       "</style>\n",
       "<table border=\"1\" class=\"dataframe\">\n",
       "  <thead>\n",
       "    <tr style=\"text-align: right;\">\n",
       "      <th></th>\n",
       "      <th>artifact id</th>\n",
       "      <th>type</th>\n",
       "      <th>uri</th>\n",
       "    </tr>\n",
       "  </thead>\n",
       "  <tbody>\n",
       "    <tr>\n",
       "      <th>0</th>\n",
       "      <td>3</td>\n",
       "      <td>ExampleStatistics</td>\n",
       "      <td>/root/tfx_data/minst_pipeline_root/StatisticsG...</td>\n",
       "    </tr>\n",
       "    <tr>\n",
       "      <th>1</th>\n",
       "      <td>6</td>\n",
       "      <td>ExampleStatistics</td>\n",
       "      <td>/root/tfx_data/minst_pipeline_root/StatisticsG...</td>\n",
       "    </tr>\n",
       "    <tr>\n",
       "      <th>2</th>\n",
       "      <td>9</td>\n",
       "      <td>ExampleStatistics</td>\n",
       "      <td>/root/tfx_data/minst_pipeline_root/StatisticsG...</td>\n",
       "    </tr>\n",
       "    <tr>\n",
       "      <th>3</th>\n",
       "      <td>12</td>\n",
       "      <td>ExampleStatistics</td>\n",
       "      <td>/root/tfx_data/minst_pipeline_root/StatisticsG...</td>\n",
       "    </tr>\n",
       "  </tbody>\n",
       "</table>\n",
       "</div>"
      ],
      "text/plain": [
       "   artifact id               type  \\\n",
       "0            3  ExampleStatistics   \n",
       "1            6  ExampleStatistics   \n",
       "2            9  ExampleStatistics   \n",
       "3           12  ExampleStatistics   \n",
       "\n",
       "                                                 uri  \n",
       "0  /root/tfx_data/minst_pipeline_root/StatisticsG...  \n",
       "1  /root/tfx_data/minst_pipeline_root/StatisticsG...  \n",
       "2  /root/tfx_data/minst_pipeline_root/StatisticsG...  \n",
       "3  /root/tfx_data/minst_pipeline_root/StatisticsG...  "
      ]
     },
     "execution_count": 5,
     "metadata": {},
     "output_type": "execute_result"
    }
   ],
   "source": [
    "example_statistics_set = store.get_artifacts_by_type(\"ExampleStatistics\")\n",
    "display_artifacts(store, example_statistics_set)\n"
   ]
  },
  {
   "cell_type": "code",
   "execution_count": 6,
   "metadata": {},
   "outputs": [
    {
     "data": {
      "text/html": [
       "<div>\n",
       "<style scoped>\n",
       "    .dataframe tbody tr th:only-of-type {\n",
       "        vertical-align: middle;\n",
       "    }\n",
       "\n",
       "    .dataframe tbody tr th {\n",
       "        vertical-align: top;\n",
       "    }\n",
       "\n",
       "    .dataframe thead th {\n",
       "        text-align: right;\n",
       "    }\n",
       "</style>\n",
       "<table border=\"1\" class=\"dataframe\">\n",
       "  <thead>\n",
       "    <tr style=\"text-align: right;\">\n",
       "      <th></th>\n",
       "      <th>property</th>\n",
       "      <th>value</th>\n",
       "    </tr>\n",
       "  </thead>\n",
       "  <tbody>\n",
       "    <tr>\n",
       "      <th>0</th>\n",
       "      <td>split_names</td>\n",
       "      <td>[\"train\", \"eval\"]</td>\n",
       "    </tr>\n",
       "    <tr>\n",
       "      <th>1</th>\n",
       "      <td>tfx_version</td>\n",
       "      <td>1.12.0</td>\n",
       "    </tr>\n",
       "    <tr>\n",
       "      <th>2</th>\n",
       "      <td>is_external</td>\n",
       "      <td>0</td>\n",
       "    </tr>\n",
       "    <tr>\n",
       "      <th>3</th>\n",
       "      <td>state</td>\n",
       "      <td>published</td>\n",
       "    </tr>\n",
       "  </tbody>\n",
       "</table>\n",
       "</div>"
      ],
      "text/plain": [
       "      property              value\n",
       "0  split_names  [\"train\", \"eval\"]\n",
       "1  tfx_version             1.12.0\n",
       "2  is_external                  0\n",
       "3        state          published"
      ]
     },
     "execution_count": 6,
     "metadata": {},
     "output_type": "execute_result"
    }
   ],
   "source": [
    "example_statistics = example_statistics_set[-1]\n",
    "display_properties(store, example_statistics)\n"
   ]
  },
  {
   "cell_type": "code",
   "execution_count": 7,
   "metadata": {},
   "outputs": [
    {
     "data": {
      "text/html": [
       "<div>\n",
       "<style scoped>\n",
       "    .dataframe tbody tr th:only-of-type {\n",
       "        vertical-align: middle;\n",
       "    }\n",
       "\n",
       "    .dataframe tbody tr th {\n",
       "        vertical-align: top;\n",
       "    }\n",
       "\n",
       "    .dataframe thead th {\n",
       "        text-align: right;\n",
       "    }\n",
       "</style>\n",
       "<table border=\"1\" class=\"dataframe\">\n",
       "  <thead>\n",
       "    <tr style=\"text-align: right;\">\n",
       "      <th></th>\n",
       "      <th>artifact id</th>\n",
       "      <th>type</th>\n",
       "      <th>uri</th>\n",
       "    </tr>\n",
       "  </thead>\n",
       "  <tbody>\n",
       "    <tr>\n",
       "      <th>0</th>\n",
       "      <td>11</td>\n",
       "      <td>Examples</td>\n",
       "      <td>/root/tfx_data/minst_pipeline_root/ImportExamp...</td>\n",
       "    </tr>\n",
       "  </tbody>\n",
       "</table>\n",
       "</div>"
      ],
      "text/plain": [
       "   artifact id      type                                                uri\n",
       "0           11  Examples  /root/tfx_data/minst_pipeline_root/ImportExamp..."
      ]
     },
     "execution_count": 7,
     "metadata": {},
     "output_type": "execute_result"
    }
   ],
   "source": [
    "parent_artifacts = get_one_hop_parent_artifacts(store, [example_statistics])\n",
    "display_artifacts(store, parent_artifacts)\n"
   ]
  },
  {
   "cell_type": "code",
   "execution_count": 8,
   "metadata": {},
   "outputs": [
    {
     "data": {
      "text/html": [
       "<div>\n",
       "<style scoped>\n",
       "    .dataframe tbody tr th:only-of-type {\n",
       "        vertical-align: middle;\n",
       "    }\n",
       "\n",
       "    .dataframe tbody tr th {\n",
       "        vertical-align: top;\n",
       "    }\n",
       "\n",
       "    .dataframe thead th {\n",
       "        text-align: right;\n",
       "    }\n",
       "</style>\n",
       "<table border=\"1\" class=\"dataframe\">\n",
       "  <thead>\n",
       "    <tr style=\"text-align: right;\">\n",
       "      <th></th>\n",
       "      <th>property</th>\n",
       "      <th>value</th>\n",
       "    </tr>\n",
       "  </thead>\n",
       "  <tbody>\n",
       "    <tr>\n",
       "      <th>0</th>\n",
       "      <td>split_names</td>\n",
       "      <td>[\"train\", \"eval\"]</td>\n",
       "    </tr>\n",
       "    <tr>\n",
       "      <th>1</th>\n",
       "      <td>tfx_version</td>\n",
       "      <td>1.12.0</td>\n",
       "    </tr>\n",
       "    <tr>\n",
       "      <th>2</th>\n",
       "      <td>payload_format</td>\n",
       "      <td>FORMAT_TF_EXAMPLE</td>\n",
       "    </tr>\n",
       "    <tr>\n",
       "      <th>3</th>\n",
       "      <td>span</td>\n",
       "      <td>0</td>\n",
       "    </tr>\n",
       "    <tr>\n",
       "      <th>4</th>\n",
       "      <td>is_external</td>\n",
       "      <td>0</td>\n",
       "    </tr>\n",
       "    <tr>\n",
       "      <th>5</th>\n",
       "      <td>file_format</td>\n",
       "      <td>tfrecords_gzip</td>\n",
       "    </tr>\n",
       "    <tr>\n",
       "      <th>6</th>\n",
       "      <td>input_fingerprint</td>\n",
       "      <td>split:single_split,num_files:1,total_bytes:597...</td>\n",
       "    </tr>\n",
       "    <tr>\n",
       "      <th>7</th>\n",
       "      <td>state</td>\n",
       "      <td>published</td>\n",
       "    </tr>\n",
       "  </tbody>\n",
       "</table>\n",
       "</div>"
      ],
      "text/plain": [
       "            property                                              value\n",
       "0        split_names                                  [\"train\", \"eval\"]\n",
       "1        tfx_version                                             1.12.0\n",
       "2     payload_format                                  FORMAT_TF_EXAMPLE\n",
       "3               span                                                  0\n",
       "4        is_external                                                  0\n",
       "5        file_format                                     tfrecords_gzip\n",
       "6  input_fingerprint  split:single_split,num_files:1,total_bytes:597...\n",
       "7              state                                          published"
      ]
     },
     "execution_count": 8,
     "metadata": {},
     "output_type": "execute_result"
    }
   ],
   "source": [
    "exported_dataset = parent_artifacts[0]\n",
    "display_properties(store, exported_dataset)\n"
   ]
  },
  {
   "cell_type": "code",
   "execution_count": 9,
   "metadata": {},
   "outputs": [
    {
     "data": {
      "text/html": [
       "<div>\n",
       "<style scoped>\n",
       "    .dataframe tbody tr th:only-of-type {\n",
       "        vertical-align: middle;\n",
       "    }\n",
       "\n",
       "    .dataframe tbody tr th {\n",
       "        vertical-align: top;\n",
       "    }\n",
       "\n",
       "    .dataframe thead th {\n",
       "        text-align: right;\n",
       "    }\n",
       "</style>\n",
       "<table border=\"1\" class=\"dataframe\">\n",
       "  <thead>\n",
       "    <tr style=\"text-align: right;\">\n",
       "      <th></th>\n",
       "      <th>id</th>\n",
       "      <th>name</th>\n",
       "    </tr>\n",
       "  </thead>\n",
       "  <tbody>\n",
       "    <tr>\n",
       "      <th>0</th>\n",
       "      <td>13</td>\n",
       "      <td>tfx.components.example_gen.import_example_gen....</td>\n",
       "    </tr>\n",
       "    <tr>\n",
       "      <th>1</th>\n",
       "      <td>16</td>\n",
       "      <td>tfx.components.statistics_gen.component.Statis...</td>\n",
       "    </tr>\n",
       "    <tr>\n",
       "      <th>2</th>\n",
       "      <td>18</td>\n",
       "      <td>tfx.components.schema_gen.component.SchemaGen</td>\n",
       "    </tr>\n",
       "  </tbody>\n",
       "</table>\n",
       "</div>"
      ],
      "text/plain": [
       "   id                                               name\n",
       "0  13  tfx.components.example_gen.import_example_gen....\n",
       "1  16  tfx.components.statistics_gen.component.Statis...\n",
       "2  18      tfx.components.schema_gen.component.SchemaGen"
      ]
     },
     "execution_count": 9,
     "metadata": {},
     "output_type": "execute_result"
    }
   ],
   "source": [
    "display_types(store.get_execution_types())\n"
   ]
  },
  {
   "cell_type": "code",
   "execution_count": 10,
   "metadata": {},
   "outputs": [
    {
     "data": {
      "text/html": [
       "<div>\n",
       "<style scoped>\n",
       "    .dataframe tbody tr th:only-of-type {\n",
       "        vertical-align: middle;\n",
       "    }\n",
       "\n",
       "    .dataframe tbody tr th {\n",
       "        vertical-align: top;\n",
       "    }\n",
       "\n",
       "    .dataframe thead th {\n",
       "        text-align: right;\n",
       "    }\n",
       "</style>\n",
       "<table border=\"1\" class=\"dataframe\">\n",
       "  <thead>\n",
       "    <tr style=\"text-align: right;\">\n",
       "      <th></th>\n",
       "      <th>property</th>\n",
       "      <th>value</th>\n",
       "    </tr>\n",
       "  </thead>\n",
       "  <tbody>\n",
       "    <tr>\n",
       "      <th>0</th>\n",
       "      <td>output_config</td>\n",
       "      <td>{\\n  \"split_config\": {\\n    \"splits\": [\\n     ...</td>\n",
       "    </tr>\n",
       "    <tr>\n",
       "      <th>1</th>\n",
       "      <td>input_base</td>\n",
       "      <td>/tmp/tfx-datazpm6kxqa/v1.0</td>\n",
       "    </tr>\n",
       "    <tr>\n",
       "      <th>2</th>\n",
       "      <td>input_fingerprint</td>\n",
       "      <td>split:single_split,num_files:1,total_bytes:597...</td>\n",
       "    </tr>\n",
       "    <tr>\n",
       "      <th>3</th>\n",
       "      <td>output_file_format</td>\n",
       "      <td>5</td>\n",
       "    </tr>\n",
       "    <tr>\n",
       "      <th>4</th>\n",
       "      <td>input_config</td>\n",
       "      <td>{\\n  \"splits\": [\\n    {\\n      \"name\": \"single...</td>\n",
       "    </tr>\n",
       "    <tr>\n",
       "      <th>5</th>\n",
       "      <td>output_data_format</td>\n",
       "      <td>6</td>\n",
       "    </tr>\n",
       "    <tr>\n",
       "      <th>6</th>\n",
       "      <td>span</td>\n",
       "      <td>0</td>\n",
       "    </tr>\n",
       "  </tbody>\n",
       "</table>\n",
       "</div>"
      ],
      "text/plain": [
       "             property                                              value\n",
       "0       output_config  {\\n  \"split_config\": {\\n    \"splits\": [\\n     ...\n",
       "1          input_base                         /tmp/tfx-datazpm6kxqa/v1.0\n",
       "2   input_fingerprint  split:single_split,num_files:1,total_bytes:597...\n",
       "3  output_file_format                                                  5\n",
       "4        input_config  {\\n  \"splits\": [\\n    {\\n      \"name\": \"single...\n",
       "5  output_data_format                                                  6\n",
       "6                span                                                  0"
      ]
     },
     "execution_count": 10,
     "metadata": {},
     "output_type": "execute_result"
    }
   ],
   "source": [
    "trainer = find_producer_execution(store, exported_dataset)\n",
    "display_properties(store, trainer)\n"
   ]
  },
  {
   "cell_type": "code",
   "execution_count": 11,
   "metadata": {},
   "outputs": [],
   "source": [
    "from tfx.orchestration.experimental.interactive import standard_visualizations\n",
    "from tfx.orchestration.experimental.interactive import visualizations\n",
    "from ml_metadata.proto import metadata_store_pb2\n",
    "# Non-public APIs, just for showcase.\n",
    "from tfx.orchestration.portable.mlmd import execution_lib\n",
    "\n",
    "# TODO(b/171447278): Move these functions into the TFX library.\n",
    "\n",
    "\n",
    "def get_latest_artifacts(metadata, pipeline_name, component_id):\n",
    "  \"\"\"Output artifacts of the latest run of the component.\"\"\"\n",
    "  context = metadata.store.get_context_by_type_and_name(\n",
    "      'node', f'{pipeline_name}.{component_id}')\n",
    "  executions = metadata.store.get_executions_by_context(context.id)\n",
    "  latest_execution = max(executions,\n",
    "                         key=lambda e: e.last_update_time_since_epoch)\n",
    "  return execution_lib.get_output_artifacts(metadata, latest_execution.id)\n",
    "\n",
    "\n",
    "# Non-public APIs, just for showcase.\n",
    "\n",
    "\n",
    "def visualize_artifacts(artifacts):\n",
    "  \"\"\"Visualizes artifacts using standard visualization modules.\"\"\"\n",
    "  for artifact in artifacts:\n",
    "    visualization = visualizations.get_registry().get_visualization(\n",
    "        artifact.type_name)\n",
    "    if visualization:\n",
    "      visualization.display(artifact)\n",
    "\n",
    "\n",
    "standard_visualizations.register_standard_visualizations()\n"
   ]
  },
  {
   "cell_type": "code",
   "execution_count": 12,
   "metadata": {},
   "outputs": [
    {
     "data": {
      "text/plain": [
       "baseline {\n",
       "  feature {\n",
       "    name: \"image\"\n",
       "    type: BYTES\n",
       "    presence {\n",
       "      min_fraction: 1.0\n",
       "      min_count: 1\n",
       "    }\n",
       "    shape {\n",
       "      dim {\n",
       "        size: 1\n",
       "      }\n",
       "    }\n",
       "  }\n",
       "  feature {\n",
       "    name: \"label\"\n",
       "    type: INT\n",
       "    presence {\n",
       "      min_fraction: 1.0\n",
       "      min_count: 1\n",
       "    }\n",
       "    shape {\n",
       "      dim {\n",
       "        size: 1\n",
       "      }\n",
       "    }\n",
       "  }\n",
       "}\n",
       "anomaly_name_format: SERIALIZED_PATH"
      ]
     },
     "execution_count": 12,
     "metadata": {},
     "output_type": "execute_result"
    }
   ],
   "source": [
    "# Non-public APIs, just for showcase.\n",
    "from tfx.orchestration.metadata import Metadata\n",
    "from tfx.types import standard_component_specs\n",
    "import tensorflow_data_validation as tfdv\n",
    "\n",
    "latest_statistics = store.get_artifacts_by_type(\"ExampleStatistics\")[-1]\n",
    "\n",
    "stats_uri = latest_statistics.uri + '/Split-train/FeatureStats.pb'\n",
    "stats = tfdv.load_stats_binary(stats_uri)\n",
    "\n",
    "lateast_schema = store.get_artifacts_by_type(\"Schema\")[-1]\n",
    "schema_uri = lateast_schema.uri + '/schema.pbtxt'\n",
    "schema = tfdv.load_schema_text(schema_uri)\n",
    "\n",
    "tfdv.validate_statistics(stats, schema)\n",
    "\n",
    "\n"
   ]
  },
  {
   "cell_type": "code",
   "execution_count": 13,
   "metadata": {},
   "outputs": [
    {
     "data": {
      "text/html": [
       "<iframe id='facets-iframe' width=\"100%\" height=\"500px\"></iframe>\n",
       "        <script>\n",
       "        facets_iframe = document.getElementById('facets-iframe');\n",
       "        facets_html = '<script src=\"https://cdnjs.cloudflare.com/ajax/libs/webcomponentsjs/1.3.3/webcomponents-lite.js\"><\\/script><link rel=\"import\" href=\"https://raw.githubusercontent.com/PAIR-code/facets/master/facets-dist/facets-jupyter.html\"><facets-overview proto-input=\"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\"></facets-overview>';\n",
       "        facets_iframe.srcdoc = facets_html;\n",
       "         facets_iframe.id = \"\";\n",
       "         setTimeout(() => {\n",
       "           facets_iframe.setAttribute('height', facets_iframe.contentWindow.document.body.offsetHeight + 'px')\n",
       "         }, 1500)\n",
       "         </script>"
      ],
      "text/plain": [
       "<IPython.core.display.HTML object>"
      ]
     },
     "metadata": {},
     "output_type": "display_data"
    }
   ],
   "source": [
    "tfdv.visualize_statistics(stats)\n"
   ]
  },
  {
   "cell_type": "code",
   "execution_count": 14,
   "metadata": {},
   "outputs": [
    {
     "data": {
      "text/html": [
       "<iframe id='facets-iframe' width=\"100%\" height=\"500px\"></iframe>\n",
       "        <script>\n",
       "        facets_iframe = document.getElementById('facets-iframe');\n",
       "        facets_html = '<script src=\"https://cdnjs.cloudflare.com/ajax/libs/webcomponentsjs/1.3.3/webcomponents-lite.js\"><\\/script><link rel=\"import\" href=\"https://raw.githubusercontent.com/PAIR-code/facets/master/facets-dist/facets-jupyter.html\"><facets-overview proto-input=\"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\"></facets-overview>';\n",
       "        facets_iframe.srcdoc = facets_html;\n",
       "         facets_iframe.id = \"\";\n",
       "         setTimeout(() => {\n",
       "           facets_iframe.setAttribute('height', facets_iframe.contentWindow.document.body.offsetHeight + 'px')\n",
       "         }, 1500)\n",
       "         </script>"
      ],
      "text/plain": [
       "<IPython.core.display.HTML object>"
      ]
     },
     "metadata": {},
     "output_type": "display_data"
    }
   ],
   "source": [
    "stats_eval_uri = latest_statistics.uri + '/Split-eval/FeatureStats.pb'\n",
    "stats_eval = tfdv.load_stats_binary(stats_eval_uri)\n",
    "tfdv.visualize_statistics(stats, stats_eval)\n"
   ]
  },
  {
   "cell_type": "code",
   "execution_count": 15,
   "metadata": {},
   "outputs": [
    {
     "data": {
      "text/html": [
       "<div>\n",
       "<style scoped>\n",
       "    .dataframe tbody tr th:only-of-type {\n",
       "        vertical-align: middle;\n",
       "    }\n",
       "\n",
       "    .dataframe tbody tr th {\n",
       "        vertical-align: top;\n",
       "    }\n",
       "\n",
       "    .dataframe thead th {\n",
       "        text-align: right;\n",
       "    }\n",
       "</style>\n",
       "<table border=\"1\" class=\"dataframe\">\n",
       "  <thead>\n",
       "    <tr style=\"text-align: right;\">\n",
       "      <th></th>\n",
       "      <th>artifact id</th>\n",
       "      <th>type</th>\n",
       "      <th>uri</th>\n",
       "    </tr>\n",
       "  </thead>\n",
       "  <tbody>\n",
       "    <tr>\n",
       "      <th>0</th>\n",
       "      <td>1</td>\n",
       "      <td>Examples</td>\n",
       "      <td>/root/tfx_data/minst_pipeline_root/ImportExamp...</td>\n",
       "    </tr>\n",
       "    <tr>\n",
       "      <th>1</th>\n",
       "      <td>2</td>\n",
       "      <td>Examples</td>\n",
       "      <td>/root/tfx_data/minst_pipeline_root/ImportExamp...</td>\n",
       "    </tr>\n",
       "    <tr>\n",
       "      <th>2</th>\n",
       "      <td>5</td>\n",
       "      <td>Examples</td>\n",
       "      <td>/root/tfx_data/minst_pipeline_root/ImportExamp...</td>\n",
       "    </tr>\n",
       "    <tr>\n",
       "      <th>3</th>\n",
       "      <td>8</td>\n",
       "      <td>Examples</td>\n",
       "      <td>/root/tfx_data/minst_pipeline_root/ImportExamp...</td>\n",
       "    </tr>\n",
       "    <tr>\n",
       "      <th>4</th>\n",
       "      <td>11</td>\n",
       "      <td>Examples</td>\n",
       "      <td>/root/tfx_data/minst_pipeline_root/ImportExamp...</td>\n",
       "    </tr>\n",
       "  </tbody>\n",
       "</table>\n",
       "</div>"
      ],
      "text/plain": [
       "   artifact id      type                                                uri\n",
       "0            1  Examples  /root/tfx_data/minst_pipeline_root/ImportExamp...\n",
       "1            2  Examples  /root/tfx_data/minst_pipeline_root/ImportExamp...\n",
       "2            5  Examples  /root/tfx_data/minst_pipeline_root/ImportExamp...\n",
       "3            8  Examples  /root/tfx_data/minst_pipeline_root/ImportExamp...\n",
       "4           11  Examples  /root/tfx_data/minst_pipeline_root/ImportExamp..."
      ]
     },
     "execution_count": 15,
     "metadata": {},
     "output_type": "execute_result"
    }
   ],
   "source": [
    "examples = store.get_artifacts_by_type(\"Examples\")\n",
    "display_artifacts(store, examples)\n"
   ]
  },
  {
   "cell_type": "code",
   "execution_count": 16,
   "metadata": {},
   "outputs": [
    {
     "name": "stdout",
     "output_type": "stream",
     "text": [
      "WARNING:tensorflow:From /usr/local/lib/python3.8/dist-packages/tensorflow/python/autograph/pyct/static_analysis/liveness.py:83: Analyzer.lamba_check (from tensorflow.python.autograph.pyct.static_analysis.liveness) is deprecated and will be removed after 2023-09-23.\n",
      "Instructions for updating:\n",
      "Lambda fuctions will be no more assumed to be used in the statement where they are used, or at least in the same block. https://github.com/tensorflow/tensorflow/issues/56089\n"
     ]
    },
    {
     "name": "stderr",
     "output_type": "stream",
     "text": [
      "2023-02-10 10:30:58.527718: E tensorflow/compiler/xla/stream_executor/cuda/cuda_driver.cc:267] failed call to cuInit: UNKNOWN ERROR (34)\n",
      "2023-02-10 10:30:58.527872: I tensorflow/compiler/xla/stream_executor/cuda/cuda_diagnostics.cc:156] kernel driver does not appear to be running on this host (a99aa484eb14): /proc/driver/nvidia/version does not exist\n",
      "2023-02-10 10:30:58.529780: I tensorflow/core/platform/cpu_feature_guard.cc:193] This TensorFlow binary is optimized with oneAPI Deep Neural Network Library (oneDNN) to use the following CPU instructions in performance-critical operations:  AVX2 FMA\n",
      "To enable them in other operations, rebuild TensorFlow with the appropriate compiler flags.\n",
      "WARNING:tensorflow:From /usr/local/lib/python3.8/dist-packages/tensorflow/python/autograph/pyct/static_analysis/liveness.py:83: Analyzer.lamba_check (from tensorflow.python.autograph.pyct.static_analysis.liveness) is deprecated and will be removed after 2023-09-23.\n",
      "Instructions for updating:\n",
      "Lambda fuctions will be no more assumed to be used in the statement where they are used, or at least in the same block. https://github.com/tensorflow/tensorflow/issues/56089\n"
     ]
    },
    {
     "name": "stdout",
     "output_type": "stream",
     "text": [
      "Number of train examples: 46557\n",
      "Number of validation examples: 23443\n"
     ]
    }
   ],
   "source": [
    "dataset_uri = examples[-1].uri + '/Split-train/data_tfrecord-00000-of-00001.gz'\n",
    "tf_dataset = tf.data.TFRecordDataset(dataset_uri, compression_type='GZIP')\n",
    "lengt_dataset = tf_dataset.reduce(0, lambda x,_: x+1).numpy()\n",
    "\n",
    "print(f'Number of train examples: {lengt_dataset}')\n",
    "dataset_eval_uri = examples[-1].uri + '/Split-eval/data_tfrecord-00000-of-00001.gz'\n",
    "tf_dataset_eval = tf.data.TFRecordDataset(\n",
    "    dataset_eval_uri, compression_type='GZIP')\n",
    "lengt_dataset_eval = tf_dataset_eval.reduce(0, lambda x, _: x+1).numpy()\n",
    "print(f'Number of validation examples: {lengt_dataset_eval}')\n"
   ]
  },
  {
   "cell_type": "code",
   "execution_count": 55,
   "metadata": {},
   "outputs": [
    {
     "name": "stdout",
     "output_type": "stream",
     "text": [
      "{'image': FixedLenFeature(shape=[1], dtype=tf.string, default_value=None), 'label': FixedLenFeature(shape=[1], dtype=tf.int64, default_value=None)}\n"
     ]
    },
    {
     "data": {
      "image/png": "[encoded data removed]",
      "text/plain": [
       "<Figure size 640x480 with 1 Axes>"
      ]
     },
     "metadata": {},
     "output_type": "display_data"
    },
    {
     "name": "stdout",
     "output_type": "stream",
     "text": [
      "\n",
      "RAW FEATURES:\n",
      "image: [[b'\\x08\\x04\\x12\\x08\\x12\\x02\\x08\\x1c\\x12\\x02\\x08\\x1c\"\\x90\\x06\\x00\\x00\\x00\\x00\\x00\\x00\\x00\\x00\\x00\\x00\\x00\\x00\\x00\\x00\\x00\\x00\\x00\\x00\\x00\\x00\\x00\\x00\\x00\\x00\\x00\\x00\\x00\\x00\\x00\\x00\\x00\\x00\\x00\\x00\\x00\\x00\\x00\\x00\\x00\\x00\\x00\\x00\\x00\\x00\\x00\\x00\\x00\\x00\\x00\\x00\\x00\\x00\\x00\\x00\\x00\\x00\\x00\\x00\\x00\\x00\\x00\\x00\\x00\\x00\\x00\\x00\\x00\\x00\\x00\\x00\\x00\\x00\\x00\\x00\\x00\\x00\\x00\\x00\\x00\\x00\\x00\\x00\\x00\\x00\\x00\\x00\\x00\\x00\\x00\\x00\\x00\\x00\\x00\\x00\\x00\\x00\\x01\\x00\\x00\\rI\\x00\\x00\\x01\\x04\\x00\\x00\\x00\\x00\\x01\\x01\\x00\\x00\\x00\\x00\\x00\\x00\\x00\\x00\\x00\\x00\\x00\\x00\\x00\\x03\\x00$\\x88\\x7f>6\\x00\\x00\\x00\\x01\\x03\\x04\\x00\\x00\\x03\\x00\\x00\\x00\\x00\\x00\\x00\\x00\\x00\\x00\\x00\\x00\\x00\\x06\\x00f\\xcc\\xb0\\x86\\x90{\\x17\\x00\\x00\\x00\\x00\\x0c\\n\\x00\\x00\\x00\\x00\\x00\\x00\\x00\\x00\\x00\\x00\\x00\\x00\\x00\\x00\\x00\\x9b\\xec\\xcf\\xb2k\\x9c\\xa1m@\\x17M\\x82H\\x0f\\x00\\x00\\x00\\x00\\x00\\x00\\x00\\x00\\x00\\x00\\x00\\x01\\x00E\\xcf\\xdf\\xda\\xd8\\xd8\\xa3\\x7fyz\\x92\\x8dX\\xacB\\x00\\x00\\x00\\x00\\x00\\x00\\x00\\x00\\x00\\x01\\x01\\x01\\x00\\xc8\\xe8\\xe8\\xe9\\xe5\\xdf\\xdf\\xd7\\xd5\\xa4\\x7f{\\xc4\\xe5\\x00\\x00\\x00\\x00\\x00\\x00\\x00\\x00\\x00\\x00\\x00\\x00\\x00\\x00\\xb7\\xe1\\xd8\\xdf\\xe4\\xeb\\xe3\\xe0\\xde\\xe0\\xdd\\xdf\\xf5\\xad\\x00\\x00\\x00\\x00\\x00\\x00\\x00\\x00\\x00\\x00\\x00\\x00\\x00\\x00\\xc1\\xe4\\xda\\xd5\\xc6\\xb4\\xd4\\xd2\\xd3\\xd5\\xdf\\xdc\\xf3\\xca\\x00\\x00\\x00\\x00\\x00\\x00\\x00\\x00\\x00\\x00\\x01\\x03\\x00\\x0c\\xdb\\xdc\\xd4\\xda\\xc0\\xa9\\xe3\\xd0\\xda\\xe0\\xd4\\xe2\\xc5\\xd14\\x00\\x00\\x00\\x00\\x00\\x00\\x00\\x00\\x00\\x00\\x06\\x00c\\xf4\\xde\\xdc\\xda\\xcb\\xc6\\xdd\\xd7\\xd5\\xde\\xdc\\xf5w\\xa78\\x00\\x00\\x00\\x00\\x00\\x00\\x00\\x00\\x00\\x04\\x00\\x007\\xec\\xe4\\xe6\\xe4\\xf0\\xe8\\xd5\\xda\\xdf\\xea\\xd9\\xd9\\xd1\\\\\\x00\\x00\\x00\\x01\\x04\\x06\\x07\\x02\\x00\\x00\\x00\\x00\\x00\\xed\\xe2\\xd9\\xdf\\xde\\xdb\\xde\\xdd\\xd8\\xdf\\xe5\\xd7\\xda\\xffM\\x00\\x00\\x03\\x00\\x00\\x00\\x00\\x00\\x00\\x00>\\x91\\xcc\\xe4\\xcf\\xd5\\xdd\\xda\\xd0\\xd3\\xda\\xe0\\xdf\\xdb\\xd7\\xe0\\xf4\\x9f\\x00\\x00\\x00\\x00\\x00\\x12,Rk\\xbd\\xe4\\xdc\\xde\\xd9\\xe2\\xc8\\xcd\\xd3\\xe6\\xe0\\xea\\xb0\\xbc\\xfa\\xf8\\xe9\\xee\\xd7\\x00\\x009\\xbb\\xd0\\xe0\\xdd\\xe0\\xd0\\xcc\\xd6\\xd0\\xd1\\xc8\\x9f\\xf5\\xc1\\xce\\xdf\\xff\\xff\\xdd\\xea\\xdd\\xd3\\xdc\\xe8\\xf6\\x00\\x03\\xca\\xe4\\xe0\\xdd\\xd3\\xd3\\xd6\\xcd\\xcd\\xcd\\xdc\\xf0P\\x96\\xff\\xe5\\xdd\\xbc\\x9a\\xbf\\xd2\\xcc\\xd1\\xde\\xe4\\xe1\\x00b\\xe9\\xc6\\xd2\\xde\\xe5\\xe5\\xea\\xf9\\xdc\\xc2\\xd7\\xd9\\xf1AIju\\xa8\\xdb\\xdd\\xd7\\xd9\\xdf\\xdf\\xe0\\xe5\\x1dK\\xcc\\xd4\\xcc\\xc1\\xcd\\xd3\\xe1\\xd8\\xb9\\xc5\\xce\\xc6\\xd5\\xf0\\xc3\\xe3\\xf5\\xef\\xdf\\xda\\xd4\\xd1\\xde\\xdc\\xdd\\xe6C0\\xcb\\xb7\\xc2\\xd5\\xc5\\xb9\\xbe\\xc2\\xc0\\xca\\xd6\\xdb\\xdd\\xdc\\xec\\xe1\\xd8\\xc7\\xce\\xba\\xb5\\xb1\\xac\\xb5\\xcd\\xces\\x00z\\xdb\\xc1\\xb3\\xab\\xb7\\xc4\\xcc\\xd2\\xd5\\xcf\\xd3\\xd2\\xc8\\xc4\\xc2\\xbf\\xc3\\xbf\\xc6\\xc0\\xb0\\x9c\\xa7\\xb1\\xd2\\\\\\x00\\x00J\\xbd\\xd4\\xbf\\xaf\\xac\\xaf\\xb5\\xb9\\xbc\\xbd\\xbc\\xc1\\xc6\\xcc\\xd1\\xd2\\xd2\\xd3\\xbc\\xbc\\xc2\\xc0\\xd8\\xaa\\x00\\x02\\x00\\x00\\x00B\\xc8\\xde\\xed\\xef\\xf2\\xf6\\xf3\\xf4\\xdd\\xdc\\xc1\\xbf\\xb3\\xb6\\xb6\\xb5\\xb0\\xa6\\xa8c:\\x00\\x00\\x00\\x00\\x00\\x00\\x00\\x00\\x00(=,H)#\\x00\\x00\\x00\\x00\\x00\\x00\\x00\\x00\\x00\\x00\\x00\\x00\\x00\\x00\\x00\\x00\\x00\\x00\\x00\\x00\\x00\\x00\\x00\\x00\\x00\\x00\\x00\\x00\\x00\\x00\\x00\\x00\\x00\\x00\\x00\\x00\\x00\\x00\\x00\\x00\\x00\\x00\\x00\\x00\\x00\\x00\\x00\\x00\\x00\\x00\\x00\\x00\\x00\\x00\\x00\\x00\\x00\\x00\\x00\\x00\\x00\\x00\\x00\\x00\\x00\\x00\\x00\\x00\\x00\\x00\\x00']]\n",
      "label: [[9]]\n"
     ]
    }
   ],
   "source": [
    "%matplotlib inline\n",
    "from matplotlib import pyplot as plt\n",
    "from tensorflow_transform.tf_metadata import schema_utils\n",
    "import numpy as np\n",
    "\n",
    "feature_spec = schema_utils.schema_as_feature_spec(schema).feature_spec\n",
    "print(feature_spec)\n",
    "\n",
    "\n",
    "for records in tf_dataset.batch(1).take(1):\n",
    "    record = records[0]\n",
    "    meh = tf.io.parse_single_example(record, feature_spec)\n",
    "    im = tf.io.parse_tensor(meh[\"image\"][0], out_type=tf.uint8)\n",
    "\n",
    "# Create a batch from the dataset\n",
    "for records in tf_dataset.batch(1).take(1):\n",
    "\n",
    "  # Parse the batch to get a dictionary of raw features\n",
    "  parsed_examples = tf.io.parse_example(records, feature_spec)\n",
    "  \n",
    "  record = records[0]\n",
    "  raw_image = tf.io.parse_single_example(record, feature_spec)\n",
    "  image = tf.io.parse_tensor(raw_image[\"image\"][0], out_type=tf.uint8)\n",
    "  plt.imshow(image, interpolation='nearest', cmap='gray')\n",
    "  plt.show()\n",
    "\n",
    "  # Print the results\n",
    "  print(\"\\nRAW FEATURES:\")\n",
    "  for key, value in parsed_examples.items():\n",
    "    print(f'{key}: {value.numpy()}')\n",
    "        \n"
   ]
  },
  {
   "cell_type": "code",
   "execution_count": 54,
   "metadata": {},
   "outputs": [
    {
     "name": "stdout",
     "output_type": "stream",
     "text": [
      "Tensor(\"args_0:0\", shape=(), dtype=string)\n",
      "{'image': <tf.Tensor 'ParseSingleExample/ParseExample/ParseExampleV2:0' shape=() dtype=string>, 'label': <tf.Tensor 'ParseSingleExample/ParseExample/ParseExampleV2:1' shape=() dtype=int64>}\n",
      "Image shape: (28, 28)\n"
     ]
    },
    {
     "data": {
      "image/png": "[encoded data removed]",
      "text/plain": [
       "<Figure size 640x480 with 1 Axes>"
      ]
     },
     "metadata": {},
     "output_type": "display_data"
    }
   ],
   "source": [
    "# Define a function to parse the `tf.train.Example` protocol buffer\n",
    "def parse_fn(example):\n",
    "    features = {\n",
    "        'image': tf.io.FixedLenFeature([], tf.string),\n",
    "        'label': tf.io.FixedLenFeature([], tf.int64)\n",
    "    }\n",
    "    parsed_example = tf.io.parse_single_example(example, features)\n",
    "    print(example)\n",
    "    print(parsed_example)\n",
    "    return parsed_example\n",
    "\n",
    "\n",
    "# Apply the parse function to the dataset\n",
    "dataset_inspect = tf_dataset.map(parse_fn)\n",
    "\n",
    "# one_example = next(iter(tf_dataset.take(1)))\n",
    "# parsed_example = parse_fn(one_example)\n",
    "# numpy_image = tf.io.parse_tensor(parsed_example[\"image\"], out_type=tf.uint8)\n",
    "\n",
    "# Iterate over the dataset and print the features of each example\n",
    "for example in dataset_inspect.take(1):\n",
    "    numpy_image = tf.io.parse_tensor(example[\"image\"], out_type=tf.uint8)\n",
    "    print(f'Image shape: {numpy_image.shape}')\n",
    "    plt.imshow(numpy_image, interpolation='nearest', cmap='gray')\n",
    "    plt.show()\n"
   ]
  }
 ],
 "metadata": {
  "kernelspec": {
   "display_name": "Python 3 (ipykernel)",
   "language": "python",
   "name": "python3"
  },
  "language_info": {
   "codemirror_mode": {
    "name": "ipython",
    "version": 3
   },
   "file_extension": ".py",
   "mimetype": "text/x-python",
   "name": "python",
   "nbconvert_exporter": "python",
   "pygments_lexer": "ipython3",
   "version": "3.8.10"
  },
  "orig_nbformat": 4,
  "vscode": {
   "interpreter": {
    "hash": "916dbcbb3f70747c44a77c7bcd40155683ae19c65e1c03b4aa3499c5328201f1"
   }
  }
 },
 "nbformat": 4,
 "nbformat_minor": 2
}
